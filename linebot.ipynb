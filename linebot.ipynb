{
 "cells": [
  {
   "cell_type": "code",
   "execution_count": 1,
   "metadata": {},
   "outputs": [
    {
     "name": "stdout",
     "output_type": "stream",
     "text": [
      "Requirement already satisfied: line-bot-sdk in c:\\users\\watab\\anaconda3\\lib\\site-packages (2.0.1)\n",
      "Requirement already satisfied: requests>=2.0 in c:\\users\\watab\\anaconda3\\lib\\site-packages (from line-bot-sdk) (2.24.0)\n",
      "Requirement already satisfied: future in c:\\users\\watab\\anaconda3\\lib\\site-packages (from line-bot-sdk) (0.18.2)\n",
      "Requirement already satisfied: aiohttp>=3.7.4 in c:\\users\\watab\\anaconda3\\lib\\site-packages (from line-bot-sdk) (3.8.1)\n",
      "Requirement already satisfied: certifi>=2017.4.17 in c:\\users\\watab\\anaconda3\\lib\\site-packages (from requests>=2.0->line-bot-sdk) (2020.6.20)\n",
      "Requirement already satisfied: chardet<4,>=3.0.2 in c:\\users\\watab\\anaconda3\\lib\\site-packages (from requests>=2.0->line-bot-sdk) (3.0.4)\n",
      "Requirement already satisfied: urllib3!=1.25.0,!=1.25.1,<1.26,>=1.21.1 in c:\\users\\watab\\anaconda3\\lib\\site-packages (from requests>=2.0->line-bot-sdk) (1.25.11)\n",
      "Requirement already satisfied: idna<3,>=2.5 in c:\\users\\watab\\anaconda3\\lib\\site-packages (from requests>=2.0->line-bot-sdk) (2.10)\n",
      "Requirement already satisfied: async-timeout<5.0,>=4.0.0a3 in c:\\users\\watab\\anaconda3\\lib\\site-packages (from aiohttp>=3.7.4->line-bot-sdk) (4.0.1)\n",
      "Requirement already satisfied: aiosignal>=1.1.2 in c:\\users\\watab\\anaconda3\\lib\\site-packages (from aiohttp>=3.7.4->line-bot-sdk) (1.2.0)\n",
      "Requirement already satisfied: multidict<7.0,>=4.5 in c:\\users\\watab\\anaconda3\\lib\\site-packages (from aiohttp>=3.7.4->line-bot-sdk) (5.2.0)\n",
      "Requirement already satisfied: attrs>=17.3.0 in c:\\users\\watab\\anaconda3\\lib\\site-packages (from aiohttp>=3.7.4->line-bot-sdk) (20.3.0)\n",
      "Requirement already satisfied: frozenlist>=1.1.1 in c:\\users\\watab\\anaconda3\\lib\\site-packages (from aiohttp>=3.7.4->line-bot-sdk) (1.2.0)\n",
      "Requirement already satisfied: yarl<2.0,>=1.0 in c:\\users\\watab\\anaconda3\\lib\\site-packages (from aiohttp>=3.7.4->line-bot-sdk) (1.7.2)\n",
      "Requirement already satisfied: charset-normalizer<3.0,>=2.0 in c:\\users\\watab\\anaconda3\\lib\\site-packages (from aiohttp>=3.7.4->line-bot-sdk) (2.0.7)\n",
      "Requirement already satisfied: typing-extensions>=3.6.5 in c:\\users\\watab\\anaconda3\\lib\\site-packages (from async-timeout<5.0,>=4.0.0a3->aiohttp>=3.7.4->line-bot-sdk) (3.7.4.3)\n"
     ]
    }
   ],
   "source": [
    "!pip install line-bot-sdk"
   ]
  },
  {
   "cell_type": "code",
   "execution_count": 2,
   "metadata": {},
   "outputs": [],
   "source": [
    "import json"
   ]
  },
  {
   "cell_type": "code",
   "execution_count": 3,
   "metadata": {},
   "outputs": [],
   "source": [
    "file=open(\"info.json\",\"r\")\n",
    "info=json.load(file)"
   ]
  },
  {
   "cell_type": "code",
   "execution_count": 4,
   "metadata": {},
   "outputs": [],
   "source": [
    "from linebot import LineBotApi\n",
    "from linebot.models import TextSendMessage"
   ]
  },
  {
   "cell_type": "code",
   "execution_count": 5,
   "metadata": {},
   "outputs": [],
   "source": [
    "CANNEL_ACCESS_TOKEN=info['CANNEL_ACCESS_TOKEN']\n",
    "line_bot_api=LineBotApi(CANNEL_ACCESS_TOKEN)"
   ]
  },
  {
   "cell_type": "code",
   "execution_count": 6,
   "metadata": {},
   "outputs": [],
   "source": [
    "def main():\n",
    "    USER_ID=info['USER_ID']\n",
    "    messages=TextSendMessage(text='お疲れ様～ \\n ゆっくり休んでな～')\n",
    "    line_bot_api.push_message(USER_ID,messages=messages)\n",
    "    \n",
    "if __name__ == \"__main__\":\n",
    "    main()"
   ]
  },
  {
   "cell_type": "code",
   "execution_count": null,
   "metadata": {},
   "outputs": [],
   "source": []
  }
 ],
 "metadata": {
  "kernelspec": {
   "display_name": "Python 3",
   "language": "python",
   "name": "python3"
  },
  "language_info": {
   "codemirror_mode": {
    "name": "ipython",
    "version": 3
   },
   "file_extension": ".py",
   "mimetype": "text/x-python",
   "name": "python",
   "nbconvert_exporter": "python",
   "pygments_lexer": "ipython3",
   "version": "3.8.5"
  }
 },
 "nbformat": 4,
 "nbformat_minor": 4
}
